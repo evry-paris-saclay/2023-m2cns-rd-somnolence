{
 "cells": [
  {
   "cell_type": "code",
   "execution_count": 1,
   "metadata": {},
   "outputs": [
    {
     "name": "stderr",
     "output_type": "stream",
     "text": [
      "* Owlready2 * Warning: optimized Cython parser module 'owlready2_optimized' is not available, defaulting to slower Python implementation\n"
     ]
    }
   ],
   "source": [
    "from owlready2 import *\n",
    "from datetime import timedelta\n",
    "\n",
    "onto = get_ontology(\"http://test.org/onto.owl\")\n"
   ]
  },
  {
   "cell_type": "code",
   "execution_count": 2,
   "metadata": {},
   "outputs": [],
   "source": [
    "#specification of the java directory\n",
    "owlready2.JAVA_EXE = \"C:\\\\Program Files\\\\Java\\\\jdk-21\\\\bin\\\\java.exe\""
   ]
  },
  {
   "cell_type": "code",
   "execution_count": 3,
   "metadata": {},
   "outputs": [],
   "source": [
    "#declaration of classes and attributs\n",
    "with onto:\n",
    "    class Driver(Thing): pass\n",
    "    class nbDrowsinessSigne ( Driver >> int, FunctionalProperty):pass\n",
    "    class defaultNbDrowsinessSigne ( Driver >> int, FunctionalProperty):pass    \n",
    "    class resultHeartRate (Driver >> float, FunctionalProperty):pass\n",
    "    class resultCamera (Driver >> float, FunctionalProperty):pass\n",
    "    class stateDriver (Driver >> int, FunctionalProperty):pass\n",
    "    class startDate (Driver >> datetime.date, FunctionalProperty):pass\n",
    "    class startTime (Driver >> datetime.time, FunctionalProperty):pass\n",
    "\n",
    "    class Sensor(Thing): pass\n",
    "    class stateSensor (Sensor >> str, FunctionalProperty):pass\n",
    "    class brand(Sensor >> str, FunctionalProperty):pass\n",
    "    class Camera (Sensor):pass\n",
    "    class HeartRate (Sensor):pass\n",
    "\n",
    "    class Driving(Thing): pass\n",
    "    class hourDriving (Driving >> datetime.time, FunctionalProperty):pass\n",
    "    class dateDriving (Driving >> str, FunctionalProperty):pass\n",
    "    class dayDriving (Driving >> str, FunctionalProperty):pass\n",
    "    \n",
    "    class Event(Thing): pass \n",
    "    \n",
    "    class DangerousHour(Event):pass\n",
    "    class hourEvent (DangerousHour >> datetime.time, FunctionalProperty):pass\n",
    "    \n",
    "    class DangerousDate(Event):pass\n",
    "    class dateEvent (DangerousDate >> datetime.date, FunctionalProperty):pass\n",
    "    \n",
    "    class DangerousDay(Event):pass\n",
    "    class dayEvent (DangerousDay >> str, FunctionalProperty):pass\n",
    "    \n",
    "    class Environment(Thing): pass\n",
    "    class temperature (Environment >> float, FunctionalProperty):pass\n",
    "    class weatherState (Environment >> str, FunctionalProperty):pass\n",
    "    \n",
    "    AllDisjoint([Driver, Sensor, Event,Driving,Environment])"
   ]
  },
  {
   "cell_type": "code",
   "execution_count": 4,
   "metadata": {},
   "outputs": [],
   "source": [
    "#declaration of relation\n",
    "with onto:\n",
    "    class monitoredBy(ObjectProperty, FunctionalProperty):\n",
    "        domain = [Driver]\n",
    "        range = [Sensor] \n",
    "        \n",
    "    class perform(ObjectProperty, FunctionalProperty):\n",
    "        domain = [Driver]\n",
    "        range = [Driving]\n",
    "        \n",
    "    class impactedBy(ObjectProperty, FunctionalProperty):\n",
    "        domain = [Driving]\n",
    "        range = [Event] \n",
    "        \n",
    "    class isPerformedIn(ObjectProperty, FunctionalProperty):\n",
    "        domain = [Driving]\n",
    "        range = [Environment]"
   ]
  },
  {
   "cell_type": "code",
   "execution_count": 5,
   "metadata": {},
   "outputs": [],
   "source": [
    "with onto:\n",
    "    rule1 = Imp()\n",
    "    rule1.set_as_rule(\"\"\"Driver(?x),Environment(?w),temperature(?w,?y),lessThanOrEqual(?y,20) -> defaultNbDrowsinessSigne(?x,6)\"\"\")\n",
    "    rule2 = Imp()\n",
    "    rule2.set_as_rule(\"\"\"Driver(?x),Environment(?w),weatherState(?w,\"pluvieux\") -> defaultNbDrowsinessSigne(?x,6)\"\"\")\n",
    "    rule3 = Imp()\n",
    "    rule3.set_as_rule(\"\"\"Driver(?x),Environment(?w),weatherState(?w,\"neigeux\") -> defaultNbDrowsinessSigne(?x,6)\"\"\")\n"
   ]
  },
  {
   "cell_type": "code",
   "execution_count": 6,
   "metadata": {},
   "outputs": [],
   "source": [
    "#save the ontology\n",
    "onto.save(\"onto.owl\", format =\"ntriples\")"
   ]
  },
  {
   "cell_type": "code",
   "execution_count": 7,
   "metadata": {},
   "outputs": [],
   "source": [
    "#reload the ontology\n",
    "onto = get_ontology(\"http://test.org/onto.owl\")"
   ]
  },
  {
   "cell_type": "code",
   "execution_count": 8,
   "metadata": {},
   "outputs": [
    {
     "data": {
      "text/plain": [
       "onto.driver"
      ]
     },
     "execution_count": 8,
     "metadata": {},
     "output_type": "execute_result"
    }
   ],
   "source": [
    "Driver(\"driver\")"
   ]
  },
  {
   "cell_type": "code",
   "execution_count": 9,
   "metadata": {},
   "outputs": [
    {
     "data": {
      "text/plain": [
       "onto.camera"
      ]
     },
     "execution_count": 9,
     "metadata": {},
     "output_type": "execute_result"
    }
   ],
   "source": [
    "Camera(\"camera\")"
   ]
  },
  {
   "cell_type": "markdown",
   "metadata": {},
   "source": [
    "### "
   ]
  },
  {
   "cell_type": "code",
   "execution_count": 10,
   "metadata": {},
   "outputs": [],
   "source": [
    "Camera(\"camera\").brand=\"xiami\""
   ]
  },
  {
   "cell_type": "code",
   "execution_count": 11,
   "metadata": {},
   "outputs": [
    {
     "data": {
      "text/plain": [
       "onto.date"
      ]
     },
     "execution_count": 11,
     "metadata": {},
     "output_type": "execute_result"
    }
   ],
   "source": [
    "DangerousDate(\"date\")"
   ]
  },
  {
   "cell_type": "code",
   "execution_count": 12,
   "metadata": {},
   "outputs": [],
   "source": [
    "DangerousDate(\"date\").dateEvent=datetime.date.today()"
   ]
  },
  {
   "cell_type": "code",
   "execution_count": 13,
   "metadata": {},
   "outputs": [
    {
     "data": {
      "text/plain": [
       "datetime.date(2024, 2, 2)"
      ]
     },
     "execution_count": 13,
     "metadata": {},
     "output_type": "execute_result"
    }
   ],
   "source": [
    "DangerousDate(\"date\").dateEvent"
   ]
  },
  {
   "cell_type": "code",
   "execution_count": 14,
   "metadata": {},
   "outputs": [],
   "source": [
    "Environment(\"conduite\")\n",
    "Environment(\"conduite\").temperature=10"
   ]
  },
  {
   "cell_type": "code",
   "execution_count": 15,
   "metadata": {},
   "outputs": [
    {
     "data": {
      "text/plain": [
       "10"
      ]
     },
     "execution_count": 15,
     "metadata": {},
     "output_type": "execute_result"
    }
   ],
   "source": [
    "Environment(\"conduite\").temperature"
   ]
  },
  {
   "cell_type": "code",
   "execution_count": 16,
   "metadata": {},
   "outputs": [
    {
     "name": "stderr",
     "output_type": "stream",
     "text": [
      "* Owlready2 * Running Pellet...\n",
      "    C:\\Program Files\\Java\\jdk-21\\bin\\java.exe -Xmx2000M -cp C:\\Users\\33605\\anaconda3\\lib\\site-packages\\owlready2\\pellet\\antlr-3.2.jar;C:\\Users\\33605\\anaconda3\\lib\\site-packages\\owlready2\\pellet\\antlr-runtime-3.2.jar;C:\\Users\\33605\\anaconda3\\lib\\site-packages\\owlready2\\pellet\\aterm-java-1.6.jar;C:\\Users\\33605\\anaconda3\\lib\\site-packages\\owlready2\\pellet\\commons-codec-1.6.jar;C:\\Users\\33605\\anaconda3\\lib\\site-packages\\owlready2\\pellet\\httpclient-4.2.3.jar;C:\\Users\\33605\\anaconda3\\lib\\site-packages\\owlready2\\pellet\\httpcore-4.2.2.jar;C:\\Users\\33605\\anaconda3\\lib\\site-packages\\owlready2\\pellet\\jcl-over-slf4j-1.6.4.jar;C:\\Users\\33605\\anaconda3\\lib\\site-packages\\owlready2\\pellet\\jena-arq-2.10.0.jar;C:\\Users\\33605\\anaconda3\\lib\\site-packages\\owlready2\\pellet\\jena-core-2.10.0.jar;C:\\Users\\33605\\anaconda3\\lib\\site-packages\\owlready2\\pellet\\jena-iri-0.9.5.jar;C:\\Users\\33605\\anaconda3\\lib\\site-packages\\owlready2\\pellet\\jena-tdb-0.10.0.jar;C:\\Users\\33605\\anaconda3\\lib\\site-packages\\owlready2\\pellet\\jgrapht-jdk1.5.jar;C:\\Users\\33605\\anaconda3\\lib\\site-packages\\owlready2\\pellet\\log4j-1.2-api-2.19.0.jar;C:\\Users\\33605\\anaconda3\\lib\\site-packages\\owlready2\\pellet\\log4j-api-2.19.0.jar;C:\\Users\\33605\\anaconda3\\lib\\site-packages\\owlready2\\pellet\\log4j-core-2.19.0.jar;C:\\Users\\33605\\anaconda3\\lib\\site-packages\\owlready2\\pellet\\owlapi-distribution-3.4.3-bin.jar;C:\\Users\\33605\\anaconda3\\lib\\site-packages\\owlready2\\pellet\\pellet-2.3.1.jar;C:\\Users\\33605\\anaconda3\\lib\\site-packages\\owlready2\\pellet\\slf4j-api-1.6.4.jar;C:\\Users\\33605\\anaconda3\\lib\\site-packages\\owlready2\\pellet\\slf4j-log4j12-1.6.4.jar;C:\\Users\\33605\\anaconda3\\lib\\site-packages\\owlready2\\pellet\\xercesImpl-2.10.0.jar;C:\\Users\\33605\\anaconda3\\lib\\site-packages\\owlready2\\pellet\\xml-apis-1.4.01.jar pellet.Pellet realize --loader Jena --input-format N-Triples --infer-prop-values --infer-data-prop-values --ignore-imports C:\\Users\\33605\\AppData\\Local\\Temp\\tmp2yee9p1s\n"
     ]
    },
    {
     "name": "stdout",
     "output_type": "stream",
     "text": [
      "* Owlready * Adding relation onto.driver defaultNbDrowsinessSigne 6.0\n"
     ]
    },
    {
     "name": "stderr",
     "output_type": "stream",
     "text": [
      "* Owlready2 * Pellet took 3.4133641719818115 seconds\n",
      "* Owlready * (NB: only changes on entities loaded in Python are shown, other changes are done but not listed)\n"
     ]
    }
   ],
   "source": [
    "sync_reasoner_pellet(infer_property_values = True, infer_data_property_values = True)"
   ]
  },
  {
   "cell_type": "code",
   "execution_count": 17,
   "metadata": {},
   "outputs": [
    {
     "data": {
      "text/plain": [
       "10"
      ]
     },
     "execution_count": 17,
     "metadata": {},
     "output_type": "execute_result"
    }
   ],
   "source": [
    "Environment(\"conduite\").temperature"
   ]
  },
  {
   "cell_type": "code",
   "execution_count": 18,
   "metadata": {},
   "outputs": [
    {
     "name": "stderr",
     "output_type": "stream",
     "text": [
      "2024-02-02 08:12:48.774044: I tensorflow/core/util/port.cc:113] oneDNN custom operations are on. You may see slightly different numerical results due to floating-point round-off errors from different computation orders. To turn them off, set the environment variable `TF_ENABLE_ONEDNN_OPTS=0`.\n",
      "WARNING:tensorflow:From C:\\Users\\33605\\anaconda3\\lib\\site-packages\\keras\\src\\losses.py:2976: The name tf.losses.sparse_softmax_cross_entropy is deprecated. Please use tf.compat.v1.losses.sparse_softmax_cross_entropy instead.\n",
      "\n",
      "WARNING:root:Failure to load the inference.so custom c++ tensorflow ops. This error is likely caused the version of TensorFlow and TensorFlow Decision Forests are not compatible. Full error:C:\\Users\\33605\\anaconda3\\lib\\site-packages\\tensorflow_decision_forests\\tensorflow\\ops\\inference\\inference.so not found\n",
      "Traceback (most recent call last):\n",
      "  File \"C:\\Users\\33605\\anaconda3\\lib\\runpy.py\", line 197, in _run_module_as_main\n",
      "    return _run_code(code, main_globals, None,\n",
      "  File \"C:\\Users\\33605\\anaconda3\\lib\\runpy.py\", line 87, in _run_code\n",
      "    exec(code, run_globals)\n",
      "  File \"C:\\Users\\33605\\anaconda3\\Scripts\\tensorflowjs_converter.exe\\__main__.py\", line 4, in <module>\n",
      "  File \"C:\\Users\\33605\\anaconda3\\lib\\site-packages\\tensorflowjs\\__init__.py\", line 21, in <module>\n",
      "    from tensorflowjs import converters\n",
      "  File \"C:\\Users\\33605\\anaconda3\\lib\\site-packages\\tensorflowjs\\converters\\__init__.py\", line 21, in <module>\n",
      "    from tensorflowjs.converters.converter import convert\n",
      "  File \"C:\\Users\\33605\\anaconda3\\lib\\site-packages\\tensorflowjs\\converters\\converter.py\", line 37, in <module>\n",
      "    from tensorflowjs.converters import tf_saved_model_conversion_v2\n",
      "  File \"C:\\Users\\33605\\anaconda3\\lib\\site-packages\\tensorflowjs\\converters\\tf_saved_model_conversion_v2.py\", line 28, in <module>\n",
      "    import tensorflow_decision_forests\n",
      "  File \"C:\\Users\\33605\\anaconda3\\lib\\site-packages\\tensorflow_decision_forests\\__init__.py\", line 64, in <module>\n",
      "    from tensorflow_decision_forests import keras\n",
      "  File \"C:\\Users\\33605\\anaconda3\\lib\\site-packages\\tensorflow_decision_forests\\keras\\__init__.py\", line 53, in <module>\n",
      "    from tensorflow_decision_forests.keras import core\n",
      "  File \"C:\\Users\\33605\\anaconda3\\lib\\site-packages\\tensorflow_decision_forests\\keras\\core.py\", line 62, in <module>\n",
      "    from tensorflow_decision_forests.keras import core_inference\n",
      "  File \"C:\\Users\\33605\\anaconda3\\lib\\site-packages\\tensorflow_decision_forests\\keras\\core_inference.py\", line 36, in <module>\n",
      "    from tensorflow_decision_forests.tensorflow.ops.inference import api as tf_op\n",
      "  File \"C:\\Users\\33605\\anaconda3\\lib\\site-packages\\tensorflow_decision_forests\\tensorflow\\ops\\inference\\api.py\", line 179, in <module>\n",
      "    from tensorflow_decision_forests.tensorflow.ops.inference import op\n",
      "  File \"C:\\Users\\33605\\anaconda3\\lib\\site-packages\\tensorflow_decision_forests\\tensorflow\\ops\\inference\\op.py\", line 15, in <module>\n",
      "    from tensorflow_decision_forests.tensorflow.ops.inference.op_dynamic import *\n",
      "  File \"C:\\Users\\33605\\anaconda3\\lib\\site-packages\\tensorflow_decision_forests\\tensorflow\\ops\\inference\\op_dynamic.py\", line 24, in <module>\n",
      "    raise e\n",
      "  File \"C:\\Users\\33605\\anaconda3\\lib\\site-packages\\tensorflow_decision_forests\\tensorflow\\ops\\inference\\op_dynamic.py\", line 21, in <module>\n",
      "    ops = tf.load_op_library(resource_loader.get_path_to_datafile(\"inference.so\"))\n",
      "  File \"C:\\Users\\33605\\anaconda3\\lib\\site-packages\\tensorflow\\python\\framework\\load_library.py\", line 54, in load_op_library\n",
      "    lib_handle = py_tf.TF_LoadLibrary(library_filename)\n",
      "tensorflow.python.framework.errors_impl.NotFoundError: C:\\Users\\33605\\anaconda3\\lib\\site-packages\\tensorflow_decision_forests\\tensorflow\\ops\\inference\\inference.so not found\n"
     ]
    }
   ],
   "source": [
    "!mkdir model\n",
    "!tensorflowjs_converter --input_format keras model.h5 model/"
   ]
  },
  {
   "cell_type": "code",
   "execution_count": null,
   "metadata": {},
   "outputs": [],
   "source": []
  }
 ],
 "metadata": {
  "kernelspec": {
   "display_name": "Python 3 (ipykernel)",
   "language": "python",
   "name": "python3"
  },
  "language_info": {
   "codemirror_mode": {
    "name": "ipython",
    "version": 3
   },
   "file_extension": ".py",
   "mimetype": "text/x-python",
   "name": "python",
   "nbconvert_exporter": "python",
   "pygments_lexer": "ipython3",
   "version": "3.9.13"
  }
 },
 "nbformat": 4,
 "nbformat_minor": 4
}
